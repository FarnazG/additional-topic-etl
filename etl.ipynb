{
 "cells": [
  {
   "cell_type": "markdown",
   "metadata": {},
   "source": [
    "### Questions\n",
    "* Why isn't this part of the program? \n",
    "    * This very much a data engineering thing\n",
    "* What is this process? What is the language? What are some other forms of data we can ingest? How can we bring them all together? "
   ]
  },
  {
   "cell_type": "markdown",
   "metadata": {},
   "source": [
    "# ETL vs ELT"
   ]
  },
  {
   "cell_type": "markdown",
   "metadata": {},
   "source": [
    "### Objectives\n",
    "YWBAT\n",
    "* define etl\n",
    "* write 1 examples of when to use etl\n",
    "* explain why etl is important"
   ]
  },
  {
   "cell_type": "markdown",
   "metadata": {},
   "source": [
    "# Scenario\n",
    "Consulting agency\n",
    "* Ingesting data\n",
    "    * Client Database (SQL in house)\n",
    "    * 3rd party database (MariaDB - MYSQL hdfs files (parquet) hadoop)\n",
    "    * API (Json files)\n",
    "    * API (XML files)\n",
    "    \n",
    "How can we make sense of this data? \n",
    "\n",
    "ETL processes can help organize and structure data for analysis. \n",
    "* Realtime\n",
    "* Daily jobs"
   ]
  },
  {
   "cell_type": "markdown",
   "metadata": {},
   "source": [
    "# So what is etl?\n",
    "\n",
    "## Extract - Transform - Load\n",
    "\n",
    "From [https://www.sas.com/en_us/insights/data-management/what-is-etl.html](https://www.sas.com/en_us/insights/data-management/what-is-etl.html)\n",
    "\n",
    "ETL is a type of data integration that refers to the three steps (extract, transform, load) used to blend data from multiple sources. It's often used to build a data warehouse. During this process, data is taken (extracted) from a source system, converted (transformed) into a format that can be analyzed, and stored (loaded) into a data warehouse or other system. Extract, load, transform (ELT) is an alternate but related approach designed to push processing down to the database for improved performance.\n",
    "\n",
    "### Example 1\n",
    "<img src=\"images/etl-3.png\"/>\n",
    "\n",
    "### Example 2\n",
    "<img src=\"images/etl-2.png\" width=\"50%\"/>\n",
    "\n",
    "### Example 3\n",
    "<img src=\"images/etl-1.jpg\" width=\"50%\"/>"
   ]
  },
  {
   "cell_type": "markdown",
   "metadata": {},
   "source": [
    "# Questions now...\n",
    "* are you able to do the etl process in sql?\n",
    "* Spark? \n",
    "    * AWS, Databricks, Azure\n",
    "    * learning how to write pyspark is important \n",
    "    * when and why to repartition is important\n",
    "* Parquet file\n",
    "    * hadoop's file format\n",
    "    * hadoop write's directories for each file"
   ]
  },
  {
   "cell_type": "code",
   "execution_count": null,
   "metadata": {},
   "outputs": [],
   "source": [
    "df1 = (spark.read\n",
    "      .csv()\n",
    "      .options()\n",
    "      .options()\n",
    "      .schema(schema))\n",
    "\n",
    "df1.write()"
   ]
  },
  {
   "cell_type": "code",
   "execution_count": null,
   "metadata": {},
   "outputs": [],
   "source": [
    "df2 = (spark.read\n",
    "      .sql())"
   ]
  },
  {
   "cell_type": "markdown",
   "metadata": {},
   "source": [
    "# Databricks\n",
    "* creators of Spark made databricks\n",
    "* a data scientists dream to work in a notebook that is also able to run jobs"
   ]
  },
  {
   "cell_type": "markdown",
   "metadata": {},
   "source": [
    "# Videos to watch\n",
    "\n",
    "* [ETL in Python](https://www.youtube.com/watch?v=7O9bosBS8WM)\n",
    "* [ETL in Python](https://www.youtube.com/watch?v=6VLel54058A)\n",
    "* [ETL in Tableau](https://www.youtube.com/watch?v=Mb8jMPD7QQw)\n",
    "* [ETL in Databricks](https://www.youtube.com/watch?v=exWGf0aXJF4) <- my favorite!\n"
   ]
  },
  {
   "cell_type": "markdown",
   "metadata": {},
   "source": [
    "### Assessment"
   ]
  }
 ],
 "metadata": {
  "kernelspec": {
   "display_name": "Python 3",
   "language": "python",
   "name": "python3"
  },
  "language_info": {
   "codemirror_mode": {
    "name": "ipython",
    "version": 3
   },
   "file_extension": ".py",
   "mimetype": "text/x-python",
   "name": "python",
   "nbconvert_exporter": "python",
   "pygments_lexer": "ipython3",
   "version": "3.6.0"
  }
 },
 "nbformat": 4,
 "nbformat_minor": 2
}
